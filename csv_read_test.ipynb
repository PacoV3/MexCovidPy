{
 "metadata": {
  "language_info": {
   "codemirror_mode": {
    "name": "ipython",
    "version": 3
   },
   "file_extension": ".py",
   "mimetype": "text/x-python",
   "name": "python",
   "nbconvert_exporter": "python",
   "pygments_lexer": "ipython3",
   "version": "3.8.5"
  },
  "orig_nbformat": 2,
  "kernelspec": {
   "name": "pythonjvsc74a57bd0baac3cc17cfccf3f53414c54126d64276de48b7f9075fbb3dbcc3701983fb512",
   "display_name": "Python 3.8.5 64-bit ('venv': venv)"
  },
  "metadata": {
   "interpreter": {
    "hash": "baac3cc17cfccf3f53414c54126d64276de48b7f9075fbb3dbcc3701983fb512"
   }
  }
 },
 "nbformat": 4,
 "nbformat_minor": 2,
 "cells": [
  {
   "source": [
    "## Data recovery"
   ],
   "cell_type": "markdown",
   "metadata": {}
  },
  {
   "cell_type": "code",
   "execution_count": 1,
   "metadata": {},
   "outputs": [],
   "source": [
    "from sqlalchemy.orm import sessionmaker\n",
    "from models import City, DbInteraction\n",
    "from sqlalchemy import select\n",
    "from csv import DictReader"
   ]
  },
  {
   "cell_type": "code",
   "execution_count": 2,
   "metadata": {},
   "outputs": [],
   "source": [
    "db = DbInteraction('localhost,5432', 'mex_covid_py','postgres', 'this_isAstrong#password')\n",
    "Session = sessionmaker(bind=db.engine)\n",
    "ses = Session()"
   ]
  },
  {
   "cell_type": "code",
   "execution_count": 3,
   "metadata": {},
   "outputs": [],
   "source": [
    "cities = {}\n",
    "daily_city_summaries = []"
   ]
  },
  {
   "cell_type": "code",
   "execution_count": 4,
   "metadata": {},
   "outputs": [],
   "source": [
    "result = ses.execute(select(City))\n",
    "for city in result.scalars().all():\n",
    "    cities[(city.city_code, city.state_id)] = {'confirmed': 0, 'c_name': city.city_name, 'lat': city.latitude, 'lon': city.longitude}"
   ]
  },
  {
   "cell_type": "code",
   "execution_count": 5,
   "metadata": {},
   "outputs": [],
   "source": [
    "def match_confirmed(cities, file):\n",
    "    with open(file, 'r', encoding=\"ISO-8859-1\") as csv_f:\n",
    "        f = DictReader(csv_f)\n",
    "        for row in f:\n",
    "            if int(row['RESULTADO']) == 1:\n",
    "                city_index = (int(row['MUNICIPIO_RES']),int(row['ENTIDAD_RES']))\n",
    "                if city_index in cities:\n",
    "                    cities[city_index]['confirmed'] += 1\n",
    "    return cities"
   ]
  },
  {
   "source": [
    "## Data visualization"
   ],
   "cell_type": "markdown",
   "metadata": {}
  },
  {
   "cell_type": "code",
   "execution_count": 6,
   "metadata": {},
   "outputs": [],
   "source": [
    "import folium"
   ]
  },
  {
   "cell_type": "code",
   "execution_count": 7,
   "metadata": {},
   "outputs": [],
   "source": [
    "cities_confirmed = match_confirmed(cities, 'zip/200912COVID19MEXICO.csv')"
   ]
  },
  {
   "cell_type": "code",
   "execution_count": 8,
   "metadata": {},
   "outputs": [],
   "source": [
    "m = folium.Map(location=[23.634501, -102.552784], tiles=\"OpenStreetMap\", zoom_start=5)"
   ]
  },
  {
   "cell_type": "code",
   "execution_count": 9,
   "metadata": {},
   "outputs": [],
   "source": [
    "# Create the points\n",
    "for city in cities_confirmed.values():\n",
    "    if city['confirmed'] > 1000:\n",
    "        folium.Circle(\n",
    "            location=[city['lat'], city['lon']],\n",
    "            popup=f'{city[\"c_name\"].title()} confirmed:{city[\"confirmed\"]}',\n",
    "            radius=float(city['confirmed']),\n",
    "            color='crimson',\n",
    "            fill=True,\n",
    "            fill_color='crimson'\n",
    "        ).add_to(m)\n",
    "# Show map\n",
    "# m"
   ]
  }
 ]
}