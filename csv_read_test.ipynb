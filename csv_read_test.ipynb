{
 "cells": [
  {
   "cell_type": "markdown",
   "source": [
    "## Data recovery"
   ],
   "metadata": {}
  },
  {
   "cell_type": "code",
   "execution_count": null,
   "source": [
    "from file_interactions import FileInteractions\n",
    "from sqlalchemy.orm import sessionmaker\n",
    "from models import City, DbInteraction\n",
    "from sqlalchemy import select"
   ],
   "outputs": [],
   "metadata": {}
  },
  {
   "cell_type": "code",
   "execution_count": null,
   "source": [
    "db = DbInteraction('localhost,5432', 'mex_covid_py','postgres', 'this_isAstrong#password')\n",
    "Session = sessionmaker(bind=db.engine)\n",
    "ses = Session()"
   ],
   "outputs": [],
   "metadata": {}
  },
  {
   "cell_type": "code",
   "execution_count": null,
   "source": [
    "cities = {}\n",
    "daily_city_summaries = []"
   ],
   "outputs": [],
   "metadata": {}
  },
  {
   "cell_type": "code",
   "execution_count": null,
   "source": [
    "result = ses.execute(select(City)).scalars()\n",
    "for city in result.all():\n",
    "    cities[(city.city_code, city.state_id)] = {'confirmed': 0, 'deaths': 0, 'c_name': city.city_name, 'lat': city.latitude, 'lon': city.longitude}"
   ],
   "outputs": [],
   "metadata": {}
  },
  {
   "cell_type": "code",
   "execution_count": null,
   "source": [
    "%%time\n",
    "file_interact = FileInteractions(folder_path='zip')\n",
    "daily_indicators = file_interact.get_indicators(cities, '210721COVID19MEXICO.csv')"
   ],
   "outputs": [],
   "metadata": {}
  },
  {
   "cell_type": "markdown",
   "source": [
    "## Data visualization"
   ],
   "metadata": {}
  },
  {
   "cell_type": "code",
   "execution_count": null,
   "source": [
    "import folium"
   ],
   "outputs": [],
   "metadata": {}
  },
  {
   "cell_type": "code",
   "execution_count": null,
   "source": [
    "# Create the points\n",
    "m = folium.Map(location=[23.634501, -102.552784], tiles=\"OpenStreetMap\", zoom_start=5)> 100:\n",
    "indicator = 'confirmed'\n",
    "for city in daily_indicators.values():\n",
    "    if city[indicator] > 100:\n",
    "        folium.Circle(\n",
    "            location=[city['lat'], city['lon']],\n",
    "            popup=f'{city[\"c_name\"].title()} {indicator}: {city[indicator]}',\n",
    "            radius=float(city[indicator]),\n",
    "            color='crimson',\n",
    "            fill=True,\n",
    "            fill_color='crimson'\n",
    "        ).add_to(m)\n",
    "# Show map\n",
    "# m"
   ],
   "outputs": [],
   "metadata": {}
  }
 ],
 "metadata": {
  "interpreter": {
   "hash": "baac3cc17cfccf3f53414c54126d64276de48b7f9075fbb3dbcc3701983fb512"
  },
  "kernelspec": {
   "name": "python3",
   "display_name": "Python 3.8.10 64-bit ('venv': venv)"
  },
  "language_info": {
   "codemirror_mode": {
    "name": "ipython",
    "version": 3
   },
   "file_extension": ".py",
   "mimetype": "text/x-python",
   "name": "python",
   "nbconvert_exporter": "python",
   "pygments_lexer": "ipython3",
   "version": "3.8.10"
  },
  "metadata": {
   "interpreter": {
    "hash": "baac3cc17cfccf3f53414c54126d64276de48b7f9075fbb3dbcc3701983fb512"
   }
  }
 },
 "nbformat": 4,
 "nbformat_minor": 2
}