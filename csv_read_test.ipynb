{
 "metadata": {
  "language_info": {
   "codemirror_mode": {
    "name": "ipython",
    "version": 3
   },
   "file_extension": ".py",
   "mimetype": "text/x-python",
   "name": "python",
   "nbconvert_exporter": "python",
   "pygments_lexer": "ipython3",
   "version": "3.8.5"
  },
  "orig_nbformat": 2,
  "kernelspec": {
   "name": "pythonjvsc74a57bd0baac3cc17cfccf3f53414c54126d64276de48b7f9075fbb3dbcc3701983fb512",
   "display_name": "Python 3.8.5 64-bit ('venv': venv)"
  },
  "metadata": {
   "interpreter": {
    "hash": "baac3cc17cfccf3f53414c54126d64276de48b7f9075fbb3dbcc3701983fb512"
   }
  }
 },
 "nbformat": 4,
 "nbformat_minor": 2,
 "cells": [
  {
   "cell_type": "code",
   "execution_count": 1,
   "metadata": {},
   "outputs": [],
   "source": [
    "from csv import DictReader"
   ]
  },
  {
   "cell_type": "code",
   "execution_count": 14,
   "metadata": {
    "tags": []
   },
   "outputs": [
    {
     "output_type": "stream",
     "name": "stdout",
     "text": [
      "663973\n"
     ]
    }
   ],
   "source": [
    "confirmed = 0\n",
    "with open('zip/200912COVID19MEXICO.csv', 'r', encoding=\"ISO-8859-1\") as csv_f:\n",
    "    f = DictReader(csv_f)\n",
    "    for row in f:\n",
    "        if int(row['RESULTADO']) == 1:\n",
    "            confirmed += 1\n",
    "        # if int(row['CLASIFICACION_FINAL']) in (1,2,3):\n",
    "        #     confirmed += 1\n",
    "print(confirmed)"
   ]
  }
 ]
}